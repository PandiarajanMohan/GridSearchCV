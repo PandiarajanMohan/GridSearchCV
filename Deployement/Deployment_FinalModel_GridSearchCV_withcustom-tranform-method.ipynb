{
 "cells": [
  {
   "cell_type": "code",
   "execution_count": 33,
   "id": "1c055cb7-2fa6-454b-bd20-fa4cfc45598f",
   "metadata": {},
   "outputs": [],
   "source": [
    "import pandas as pd\n",
    "import joblib"
   ]
  },
  {
   "cell_type": "code",
   "execution_count": 41,
   "id": "524e6cbd-e38a-4596-aabc-3061677e9d56",
   "metadata": {},
   "outputs": [],
   "source": [
    "# Load the trained model\n",
    "model = joblib.load(\"finalModel_fromGridSearchCV_RF.joblib\")"
   ]
  },
  {
   "cell_type": "code",
   "execution_count": 43,
   "id": "1dbc9906-641f-4749-9798-abc9eca3f6ad",
   "metadata": {},
   "outputs": [],
   "source": [
    "# Define a function to perform one-hot encoding\n",
    "def preprocess_input(input_data):\n",
    "    # Perform one-hot encoding on categorical columns\n",
    "    input_data = pd.get_dummies(input_data, columns=['sex', 'smoker'], drop_first=True, dtype=int)\n",
    "    \n",
    "    # Ensure all required columns are present (add missing columns with default values if necessary)\n",
    "    required_columns = ['age', 'bmi', 'children', 'sex_male', 'smoker_yes']\n",
    "    for col in required_columns:\n",
    "        if col not in input_data.columns:\n",
    "            input_data[col] = 0  # Add missing columns with default value 0\n",
    "    \n",
    "    # Reorder columns to match the model's expected input format\n",
    "    input_data = input_data[required_columns]\n",
    "    \n",
    "    return input_data"
   ]
  },
  {
   "cell_type": "code",
   "execution_count": 47,
   "id": "10af40cd-789e-4248-b496-30d81e963a30",
   "metadata": {},
   "outputs": [],
   "source": [
    "# Define the inverse_dummy function to reverse one-hot encoding\n",
    "def inverse_dummy(dummy_df):\n",
    "    # Create a dictionary to store original values\n",
    "    result_dict = {}\n",
    "    \n",
    "    # Map one-hot encoded columns back to original categorical values\n",
    "    if 'sex_male' in dummy_df.columns:\n",
    "        result_dict['sex'] = dummy_df['sex_male'].apply(lambda x: 'male' if x == 1 else 'female')\n",
    "    \n",
    "    if 'smoker_yes' in dummy_df.columns:\n",
    "        result_dict['smoker'] = dummy_df['smoker_yes'].apply(lambda x: 'yes' if x == 1 else 'no')\n",
    "    \n",
    "    # Return as DataFrame\n",
    "    return pd.DataFrame(result_dict)"
   ]
  },
  {
   "cell_type": "code",
   "execution_count": 61,
   "id": "a81d7624-6ce3-411b-b139-c19edf621735",
   "metadata": {},
   "outputs": [],
   "source": [
    "# Example input data (original format with categorical columns)\n",
    "input_data = pd.DataFrame({\n",
    "    'age': [19, 18, 28],\n",
    "    'bmi': [27.9, 33.77, 33.0],\n",
    "    'children': [0, 1, 3],\n",
    "    'sex': ['female', 'male', 'female'],  # Original categorical column\n",
    "    'smoker': ['yes', 'no', 'no']        # Original categorical column\n",
    "})"
   ]
  },
  {
   "cell_type": "code",
   "execution_count": 63,
   "id": "87869dae-5c6f-4cbb-a0f2-965577d7e631",
   "metadata": {},
   "outputs": [],
   "source": [
    "# Preprocess the input data (one-hot encoding)\n",
    "processed_input = preprocess_input(input_data)"
   ]
  },
  {
   "cell_type": "code",
   "execution_count": 65,
   "id": "e42542e8-189a-40c4-9b93-e6eec4c86b0a",
   "metadata": {},
   "outputs": [
    {
     "data": {
      "text/html": [
       "<div>\n",
       "<style scoped>\n",
       "    .dataframe tbody tr th:only-of-type {\n",
       "        vertical-align: middle;\n",
       "    }\n",
       "\n",
       "    .dataframe tbody tr th {\n",
       "        vertical-align: top;\n",
       "    }\n",
       "\n",
       "    .dataframe thead th {\n",
       "        text-align: right;\n",
       "    }\n",
       "</style>\n",
       "<table border=\"1\" class=\"dataframe\">\n",
       "  <thead>\n",
       "    <tr style=\"text-align: right;\">\n",
       "      <th></th>\n",
       "      <th>age</th>\n",
       "      <th>bmi</th>\n",
       "      <th>children</th>\n",
       "      <th>sex_male</th>\n",
       "      <th>smoker_yes</th>\n",
       "    </tr>\n",
       "  </thead>\n",
       "  <tbody>\n",
       "    <tr>\n",
       "      <th>0</th>\n",
       "      <td>19</td>\n",
       "      <td>27.90</td>\n",
       "      <td>0</td>\n",
       "      <td>0</td>\n",
       "      <td>1</td>\n",
       "    </tr>\n",
       "    <tr>\n",
       "      <th>1</th>\n",
       "      <td>18</td>\n",
       "      <td>33.77</td>\n",
       "      <td>1</td>\n",
       "      <td>1</td>\n",
       "      <td>0</td>\n",
       "    </tr>\n",
       "    <tr>\n",
       "      <th>2</th>\n",
       "      <td>28</td>\n",
       "      <td>33.00</td>\n",
       "      <td>3</td>\n",
       "      <td>0</td>\n",
       "      <td>0</td>\n",
       "    </tr>\n",
       "  </tbody>\n",
       "</table>\n",
       "</div>"
      ],
      "text/plain": [
       "   age    bmi  children  sex_male  smoker_yes\n",
       "0   19  27.90         0         0           1\n",
       "1   18  33.77         1         1           0\n",
       "2   28  33.00         3         0           0"
      ]
     },
     "execution_count": 65,
     "metadata": {},
     "output_type": "execute_result"
    }
   ],
   "source": [
    "processed_input"
   ]
  },
  {
   "cell_type": "code",
   "execution_count": 67,
   "id": "2cb57c59-f279-4d39-9f94-6d8228e39183",
   "metadata": {},
   "outputs": [],
   "source": [
    "# Make predictions\n",
    "predictions = model.predict(processed_input)"
   ]
  },
  {
   "cell_type": "code",
   "execution_count": 69,
   "id": "a1d11df0-9455-4e6e-ae43-0bf15e16dc3f",
   "metadata": {},
   "outputs": [],
   "source": [
    "# Add predictions to the processed input data\n",
    "processed_input['charges_pred'] = predictions"
   ]
  },
  {
   "cell_type": "code",
   "execution_count": 75,
   "id": "e3f28053-79ee-4ae4-a850-876b694893e0",
   "metadata": {},
   "outputs": [
    {
     "data": {
      "text/html": [
       "<div>\n",
       "<style scoped>\n",
       "    .dataframe tbody tr th:only-of-type {\n",
       "        vertical-align: middle;\n",
       "    }\n",
       "\n",
       "    .dataframe tbody tr th {\n",
       "        vertical-align: top;\n",
       "    }\n",
       "\n",
       "    .dataframe thead th {\n",
       "        text-align: right;\n",
       "    }\n",
       "</style>\n",
       "<table border=\"1\" class=\"dataframe\">\n",
       "  <thead>\n",
       "    <tr style=\"text-align: right;\">\n",
       "      <th></th>\n",
       "      <th>sex</th>\n",
       "      <th>smoker</th>\n",
       "    </tr>\n",
       "  </thead>\n",
       "  <tbody>\n",
       "    <tr>\n",
       "      <th>0</th>\n",
       "      <td>female</td>\n",
       "      <td>yes</td>\n",
       "    </tr>\n",
       "    <tr>\n",
       "      <th>1</th>\n",
       "      <td>male</td>\n",
       "      <td>no</td>\n",
       "    </tr>\n",
       "    <tr>\n",
       "      <th>2</th>\n",
       "      <td>female</td>\n",
       "      <td>no</td>\n",
       "    </tr>\n",
       "  </tbody>\n",
       "</table>\n",
       "</div>"
      ],
      "text/plain": [
       "      sex smoker\n",
       "0  female    yes\n",
       "1    male     no\n",
       "2  female     no"
      ]
     },
     "execution_count": 75,
     "metadata": {},
     "output_type": "execute_result"
    }
   ],
   "source": [
    "# Reverse one-hot encoding to get original categorical values\n",
    "original_categories = inverse_dummy(processed_input)\n",
    "original_categories"
   ]
  },
  {
   "cell_type": "code",
   "execution_count": 73,
   "id": "985ae7c0-0547-4712-b74a-cc12e67ea804",
   "metadata": {},
   "outputs": [
    {
     "name": "stdout",
     "output_type": "stream",
     "text": [
      "      sex smoker  age    bmi  children  charges_pred\n",
      "0  female    yes   19  27.90         0  18343.188935\n",
      "1    male     no   18  33.77         1   4639.004567\n",
      "2  female     no   28  33.00         3   7395.703839\n"
     ]
    }
   ],
   "source": [
    "# Combine predictions with original categorical values and other features\n",
    "output = pd.concat([original_categories, input_data[['age', 'bmi', 'children']], processed_input['charges_pred']], axis=1)\n",
    "\n",
    "# Display the final output\n",
    "print(output)"
   ]
  },
  {
   "cell_type": "code",
   "execution_count": null,
   "id": "d09e2ad2-8220-4cbf-aee8-6955759726a1",
   "metadata": {},
   "outputs": [],
   "source": []
  }
 ],
 "metadata": {
  "kernelspec": {
   "display_name": "Python 3 (ipykernel)",
   "language": "python",
   "name": "python3"
  },
  "language_info": {
   "codemirror_mode": {
    "name": "ipython",
    "version": 3
   },
   "file_extension": ".py",
   "mimetype": "text/x-python",
   "name": "python",
   "nbconvert_exporter": "python",
   "pygments_lexer": "ipython3",
   "version": "3.12.7"
  }
 },
 "nbformat": 4,
 "nbformat_minor": 5
}
